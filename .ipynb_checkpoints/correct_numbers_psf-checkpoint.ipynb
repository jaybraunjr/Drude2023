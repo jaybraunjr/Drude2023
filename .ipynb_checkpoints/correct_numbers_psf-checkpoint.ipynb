{
 "cells": [
  {
   "cell_type": "code",
   "execution_count": null,
   "id": "80e9ea74",
   "metadata": {},
   "outputs": [],
   "source": []
  },
  {
   "cell_type": "code",
   "execution_count": 2,
   "id": "9ebb245c",
   "metadata": {
    "collapsed": true
   },
   "outputs": [
    {
     "ename": "FileNotFoundError",
     "evalue": "[Errno 2] No such file or directory: '../ld/ld.psf'",
     "output_type": "error",
     "traceback": [
      "\u001b[0;31m---------------------------------------------------------------------------\u001b[0m",
      "\u001b[0;31mFileNotFoundError\u001b[0m                         Traceback (most recent call last)",
      "Cell \u001b[0;32mIn[2], line 5\u001b[0m\n\u001b[1;32m      2\u001b[0m file_path \u001b[38;5;241m=\u001b[39m \u001b[38;5;124m'\u001b[39m\u001b[38;5;124m../ld/ld.psf\u001b[39m\u001b[38;5;124m'\u001b[39m\n\u001b[1;32m      4\u001b[0m \u001b[38;5;66;03m# Reading the content of the file\u001b[39;00m\n\u001b[0;32m----> 5\u001b[0m \u001b[38;5;28;01mwith\u001b[39;00m \u001b[38;5;28;43mopen\u001b[39;49m\u001b[43m(\u001b[49m\u001b[43mfile_path\u001b[49m\u001b[43m,\u001b[49m\u001b[43m \u001b[49m\u001b[38;5;124;43m'\u001b[39;49m\u001b[38;5;124;43mr\u001b[39;49m\u001b[38;5;124;43m'\u001b[39;49m\u001b[43m)\u001b[49m \u001b[38;5;28;01mas\u001b[39;00m file:\n\u001b[1;32m      6\u001b[0m     trio_psf_content \u001b[38;5;241m=\u001b[39m file\u001b[38;5;241m.\u001b[39mreadlines()\n\u001b[1;32m      8\u001b[0m \u001b[38;5;66;03m# Displaying the first 20 lines for an initial overview\u001b[39;00m\n\u001b[1;32m      9\u001b[0m \u001b[38;5;66;03m# trio_psf_content[:20]\u001b[39;00m\n",
      "File \u001b[0;32m~/miniconda3/lib/python3.9/site-packages/IPython/core/interactiveshell.py:310\u001b[0m, in \u001b[0;36m_modified_open\u001b[0;34m(file, *args, **kwargs)\u001b[0m\n\u001b[1;32m    303\u001b[0m \u001b[38;5;28;01mif\u001b[39;00m file \u001b[38;5;129;01min\u001b[39;00m {\u001b[38;5;241m0\u001b[39m, \u001b[38;5;241m1\u001b[39m, \u001b[38;5;241m2\u001b[39m}:\n\u001b[1;32m    304\u001b[0m     \u001b[38;5;28;01mraise\u001b[39;00m \u001b[38;5;167;01mValueError\u001b[39;00m(\n\u001b[1;32m    305\u001b[0m         \u001b[38;5;124mf\u001b[39m\u001b[38;5;124m\"\u001b[39m\u001b[38;5;124mIPython won\u001b[39m\u001b[38;5;124m'\u001b[39m\u001b[38;5;124mt let you open fd=\u001b[39m\u001b[38;5;132;01m{\u001b[39;00mfile\u001b[38;5;132;01m}\u001b[39;00m\u001b[38;5;124m by default \u001b[39m\u001b[38;5;124m\"\u001b[39m\n\u001b[1;32m    306\u001b[0m         \u001b[38;5;124m\"\u001b[39m\u001b[38;5;124mas it is likely to crash IPython. If you know what you are doing, \u001b[39m\u001b[38;5;124m\"\u001b[39m\n\u001b[1;32m    307\u001b[0m         \u001b[38;5;124m\"\u001b[39m\u001b[38;5;124myou can use builtins\u001b[39m\u001b[38;5;124m'\u001b[39m\u001b[38;5;124m open.\u001b[39m\u001b[38;5;124m\"\u001b[39m\n\u001b[1;32m    308\u001b[0m     )\n\u001b[0;32m--> 310\u001b[0m \u001b[38;5;28;01mreturn\u001b[39;00m \u001b[43mio_open\u001b[49m\u001b[43m(\u001b[49m\u001b[43mfile\u001b[49m\u001b[43m,\u001b[49m\u001b[43m \u001b[49m\u001b[38;5;241;43m*\u001b[39;49m\u001b[43margs\u001b[49m\u001b[43m,\u001b[49m\u001b[43m \u001b[49m\u001b[38;5;241;43m*\u001b[39;49m\u001b[38;5;241;43m*\u001b[39;49m\u001b[43mkwargs\u001b[49m\u001b[43m)\u001b[49m\n",
      "\u001b[0;31mFileNotFoundError\u001b[0m: [Errno 2] No such file or directory: '../ld/ld.psf'"
     ]
    }
   ],
   "source": [
    "file_path = '../ld/ld.psf'\n",
    "\n",
    "# Reading the content of the file\n",
    "with open(file_path, 'r') as file:\n",
    "    trio_psf_content = file.readlines()\n",
    "\n",
    "# Displaying the first 20 lines for an initial overview\n",
    "# trio_psf_content[:20]\n"
   ]
  },
  {
   "cell_type": "markdown",
   "id": "0d13e7d4",
   "metadata": {},
   "source": [
    "# Modify names "
   ]
  },
  {
   "cell_type": "code",
   "execution_count": 2,
   "id": "12e8a707",
   "metadata": {},
   "outputs": [],
   "source": [
    "def modify_psf_file_for_tip3(original_file_path, modified_file_path, search_text, replacement_text, include_keyword, exclude_keyword):\n",
    "    \"\"\"\n",
    "    Reads a PSF file, replaces specified text with another text in lines containing the include keyword \n",
    "    and not containing the exclude keyword, and writes to a new file.\n",
    "\n",
    "    Parameters:\n",
    "    original_file_path (str): Path to the original PSF file.\n",
    "    modified_file_path (str): Path to save the modified PSF file.\n",
    "    search_text (str): Text to search for and replace.\n",
    "    replacement_text (str): Text to use as replacement.\n",
    "    include_keyword (str): Keyword that, if present in a line, will include the line for modification.\n",
    "    exclude_keyword (str): Keyword that, if present in a line, will exclude the line from being modified.\n",
    "    \"\"\"\n",
    "    with open(original_file_path, 'r') as file, open(modified_file_path, 'w') as modified_file:\n",
    "        for line in file:\n",
    "            if include_keyword in line and exclude_keyword not in line:\n",
    "                modified_line = line.replace(search_text, replacement_text)\n",
    "                modified_file.write(modified_line)\n",
    "            else:\n",
    "                modified_file.write(line)\n",
    "\n",
    "\n",
    "original_file_path = '../ld/ld.psf'  # Replace with your file path\n",
    "modified_file_path = '../ld/ld2.psf'  # Replace with your desired output file path\n",
    "search_text = 'SYS'  # Text to search for and replace\n",
    "replacement_text = 'TIP3'  # Text to use as replacement\n",
    "include_keyword = 'TIP3'  # Keyword to include lines for modification\n",
    "exclude_keyword = 'TRIO'  # Keyword to exclude lines from being modified\n",
    "\n",
    "modify_psf_file_for_tip3(original_file_path, modified_file_path, search_text, replacement_text, include_keyword, exclude_keyword)\n"
   ]
  },
  {
   "cell_type": "markdown",
   "id": "dbf0d8fe",
   "metadata": {},
   "source": [
    "#  And now for the CRD file"
   ]
  },
  {
   "cell_type": "code",
   "execution_count": 2,
   "id": "dc58c04e",
   "metadata": {},
   "outputs": [
    {
     "data": {
      "text/plain": [
       "'../ld/ld_whole2.crd'"
      ]
     },
     "execution_count": 2,
     "metadata": {},
     "output_type": "execute_result"
    }
   ],
   "source": [
    "# File paths for the original and modified CRD files\n",
    "original_crd_file_path = '../ld/ld_whole.crd'\n",
    "modified_crd_file_path = '../ld/ld_whole2.crd'\n",
    "\n",
    "def modify_psf_file_for_tip3(original_file_path, modified_file_path, search_text, replacement_text, include_keyword, exclude_keyword):\n",
    "    \"\"\"\n",
    "    Reads a file, replaces specified text with another text in lines containing the include keyword \n",
    "    and not containing the exclude keyword, and writes to a new file.\n",
    "\n",
    "    Parameters:\n",
    "    original_file_path (str): Path to the original file.\n",
    "    modified_file_path (str): Path to save the modified file.\n",
    "    search_text (str): Text to search for and replace.\n",
    "    replacement_text (str): Text to use as replacement.\n",
    "    include_keyword (str): Keyword that, if present in a line, will include the line for modification.\n",
    "    exclude_keyword (str): Keyword that, if present in a line, will exclude the line from being modified.\n",
    "    \"\"\"\n",
    "    with open(original_file_path, 'r') as file, open(modified_file_path, 'w') as modified_file:\n",
    "        for line in file:\n",
    "            if include_keyword in line and exclude_keyword not in line:\n",
    "                modified_line = line.replace(search_text, replacement_text)\n",
    "                modified_file.write(modified_line)\n",
    "            else:\n",
    "                modified_file.write(line)\n",
    "\n",
    "# Apply the modification script to the CRD file\n",
    "modify_psf_file_for_tip3(original_crd_file_path, modified_crd_file_path, \n",
    "                         search_text='SYSTEM', replacement_text='TIP3', \n",
    "                         include_keyword='TIP3', exclude_keyword='TRIO')\n",
    "\n",
    "modified_crd_file_path  \n",
    "\n"
   ]
  },
  {
   "cell_type": "markdown",
   "id": "d697d8ad",
   "metadata": {},
   "source": [
    "# After this step we need to cut out the TIP3 or other parts to make separate sections for the CRD and PSF files"
   ]
  },
  {
   "cell_type": "markdown",
   "id": "11fe8a31",
   "metadata": {},
   "source": [
    "TIP3.psf,\n",
    "TIP3.crd are the inputs"
   ]
  },
  {
   "cell_type": "code",
   "execution_count": 4,
   "id": "1b8ca649",
   "metadata": {
    "collapsed": true
   },
   "outputs": [
    {
     "data": {
      "text/plain": [
       "'    102090 TIP3      728      TIP3     OH2      OT      -0.834000       15.9994           \\n    102091 TIP3      728      TIP3     H1       HT       0.417000        1.0080           \\n    102092 TIP3      728      TIP3     H2       HT       0.417000        1.0080           \\n    102093 TIP3      729      TIP3     OH2      OT      -0.834000       15.9994           \\n    102094 TIP3      729      TIP3     H1       HT       0.417000        1.0080           \\n    102095 TIP3      729      TIP3     H2    '"
      ]
     },
     "execution_count": 4,
     "metadata": {},
     "output_type": "execute_result"
    }
   ],
   "source": [
    "# Let's first open the file to examine its contents\n",
    "\n",
    "file_path = '../ld/tip3.psf'\n",
    "\n",
    "with open(file_path, 'r') as file:\n",
    "    file_contents = file.read(500)  # Read the first 500 characters to get an idea of the content\n",
    "\n",
    "file_contents\n"
   ]
  },
  {
   "cell_type": "code",
   "execution_count": 5,
   "id": "10d727ea",
   "metadata": {},
   "outputs": [
    {
     "data": {
      "text/html": [
       "<div>\n",
       "<style scoped>\n",
       "    .dataframe tbody tr th:only-of-type {\n",
       "        vertical-align: middle;\n",
       "    }\n",
       "\n",
       "    .dataframe tbody tr th {\n",
       "        vertical-align: top;\n",
       "    }\n",
       "\n",
       "    .dataframe thead th {\n",
       "        text-align: right;\n",
       "    }\n",
       "</style>\n",
       "<table border=\"1\" class=\"dataframe\">\n",
       "  <thead>\n",
       "    <tr style=\"text-align: right;\">\n",
       "      <th></th>\n",
       "      <th>0</th>\n",
       "      <th>1</th>\n",
       "      <th>2</th>\n",
       "      <th>3</th>\n",
       "      <th>4</th>\n",
       "      <th>5</th>\n",
       "      <th>6</th>\n",
       "      <th>7</th>\n",
       "    </tr>\n",
       "  </thead>\n",
       "  <tbody>\n",
       "    <tr>\n",
       "      <th>0</th>\n",
       "      <td>102090</td>\n",
       "      <td>TIP3</td>\n",
       "      <td>728</td>\n",
       "      <td>TIP3</td>\n",
       "      <td>OH2</td>\n",
       "      <td>OT</td>\n",
       "      <td>-0.834000</td>\n",
       "      <td>15.9994</td>\n",
       "    </tr>\n",
       "    <tr>\n",
       "      <th>1</th>\n",
       "      <td>102091</td>\n",
       "      <td>TIP3</td>\n",
       "      <td>728</td>\n",
       "      <td>TIP3</td>\n",
       "      <td>H1</td>\n",
       "      <td>HT</td>\n",
       "      <td>0.417000</td>\n",
       "      <td>1.0080</td>\n",
       "    </tr>\n",
       "    <tr>\n",
       "      <th>2</th>\n",
       "      <td>102092</td>\n",
       "      <td>TIP3</td>\n",
       "      <td>728</td>\n",
       "      <td>TIP3</td>\n",
       "      <td>H2</td>\n",
       "      <td>HT</td>\n",
       "      <td>0.417000</td>\n",
       "      <td>1.0080</td>\n",
       "    </tr>\n",
       "    <tr>\n",
       "      <th>3</th>\n",
       "      <td>102093</td>\n",
       "      <td>TIP3</td>\n",
       "      <td>729</td>\n",
       "      <td>TIP3</td>\n",
       "      <td>OH2</td>\n",
       "      <td>OT</td>\n",
       "      <td>-0.834000</td>\n",
       "      <td>15.9994</td>\n",
       "    </tr>\n",
       "    <tr>\n",
       "      <th>4</th>\n",
       "      <td>102094</td>\n",
       "      <td>TIP3</td>\n",
       "      <td>729</td>\n",
       "      <td>TIP3</td>\n",
       "      <td>H1</td>\n",
       "      <td>HT</td>\n",
       "      <td>0.417000</td>\n",
       "      <td>1.0080</td>\n",
       "    </tr>\n",
       "  </tbody>\n",
       "</table>\n",
       "</div>"
      ],
      "text/plain": [
       "        0     1    2     3    4   5          6        7\n",
       "0  102090  TIP3  728  TIP3  OH2  OT  -0.834000  15.9994\n",
       "1  102091  TIP3  728  TIP3   H1  HT   0.417000   1.0080\n",
       "2  102092  TIP3  728  TIP3   H2  HT   0.417000   1.0080\n",
       "3  102093  TIP3  729  TIP3  OH2  OT  -0.834000  15.9994\n",
       "4  102094  TIP3  729  TIP3   H1  HT   0.417000   1.0080"
      ]
     },
     "execution_count": 5,
     "metadata": {},
     "output_type": "execute_result"
    }
   ],
   "source": [
    "import pandas as pd\n",
    "\n",
    "\n",
    "try:\n",
    "    df = pd.read_fwf(file_path, header=None)\n",
    "    # Displaying the first few rows to understand the structure\n",
    "    preview = df.head()\n",
    "except Exception as e:\n",
    "    preview = str(e)\n",
    "\n",
    "preview\n"
   ]
  },
  {
   "cell_type": "code",
   "execution_count": 1,
   "id": "8fad2f94",
   "metadata": {
    "collapsed": true
   },
   "outputs": [
    {
     "ename": "NameError",
     "evalue": "name 'file_path' is not defined",
     "output_type": "error",
     "traceback": [
      "\u001b[0;31m---------------------------------------------------------------------------\u001b[0m",
      "\u001b[0;31mNameError\u001b[0m                                 Traceback (most recent call last)",
      "Cell \u001b[0;32mIn[1], line 6\u001b[0m\n\u001b[1;32m      3\u001b[0m molecule_id \u001b[38;5;241m=\u001b[39m \u001b[38;5;241m0\u001b[39m\n\u001b[1;32m      4\u001b[0m current_id \u001b[38;5;241m=\u001b[39m \u001b[38;5;28;01mNone\u001b[39;00m\n\u001b[0;32m----> 6\u001b[0m \u001b[38;5;28;01mwith\u001b[39;00m \u001b[38;5;28mopen\u001b[39m(\u001b[43mfile_path\u001b[49m, \u001b[38;5;124m'\u001b[39m\u001b[38;5;124mr\u001b[39m\u001b[38;5;124m'\u001b[39m) \u001b[38;5;28;01mas\u001b[39;00m file:\n\u001b[1;32m      7\u001b[0m     \u001b[38;5;28;01mfor\u001b[39;00m line \u001b[38;5;129;01min\u001b[39;00m file:\n\u001b[1;32m      8\u001b[0m         parts \u001b[38;5;241m=\u001b[39m line\u001b[38;5;241m.\u001b[39msplit()\n",
      "\u001b[0;31mNameError\u001b[0m: name 'file_path' is not defined"
     ]
    }
   ],
   "source": [
    "# Reading the file line by line and modifying the 7th column\n",
    "modified_lines = []\n",
    "molecule_id = 0\n",
    "current_id = None\n",
    "\n",
    "with open(file_path, 'r') as file:\n",
    "    for line in file:\n",
    "        parts = line.split()\n",
    "        if len(parts) > 2:  # Check if the line is long enough to have a 7th column\n",
    "#             print(parts[2])\n",
    "            # Check if the molecule ID in this line is different from the previous one\n",
    "            if parts[2] != current_id:\n",
    "                current_id = parts[2]\n",
    "                molecule_id += 1  # Increment the molecule ID\n",
    "            \n",
    "            # Replace the 7th column with the new molecule ID, keeping the same width\n",
    "            new_id_str = f\"{molecule_id}\".rjust(len(parts[2]))\n",
    "            modified_line = line[:line.rfind(parts[2])] + new_id_str + line[line.rfind(parts[2]) + len(parts[2]):]\n",
    "        else:\n",
    "            modified_line = line  # Keep the line as is if it doesn't have enough columns\n",
    "        \n",
    "        modified_lines.append(modified_line)\n",
    "\n",
    "# Joining the modified lines to create the content of the new file\n",
    "modified_content = ''.join(modified_lines)\n",
    "modified_file_path = 'test/tip3_modified.psf'\n",
    "\n",
    "# Writing the modified content to a new file\n",
    "with open(modified_file_path, 'w') as modified_file:\n",
    "    modified_file.write(modified_content)\n",
    "\n",
    "modified_file_path\n"
   ]
  },
  {
   "cell_type": "code",
   "execution_count": 9,
   "id": "cc16ab68",
   "metadata": {},
   "outputs": [],
   "source": [
    "filepath = '../ld/tip3.psf'"
   ]
  },
  {
   "cell_type": "markdown",
   "id": "adf96690",
   "metadata": {},
   "source": [
    "Trying to correct the column issue"
   ]
  },
  {
   "cell_type": "markdown",
   "id": "dfe30313",
   "metadata": {},
   "source": [
    "12/6 column issue is fixed with below code"
   ]
  },
  {
   "cell_type": "code",
   "execution_count": 10,
   "id": "988fe5df",
   "metadata": {
    "scrolled": true
   },
   "outputs": [
    {
     "data": {
      "text/plain": [
       "'../ld/tip3_new.psf'"
      ]
     },
     "execution_count": 10,
     "metadata": {},
     "output_type": "execute_result"
    }
   ],
   "source": [
    "modified_lines = []\n",
    "molecule_id = 0\n",
    "current_id = None\n",
    "\n",
    "with open(file_path, 'r') as file:\n",
    "    for line in file:\n",
    "        # Check if the line is long enough to have a column starting at the 21st space\n",
    "        if len(line) > 20:\n",
    "            # Extract the value from the column starting at the 21st space, if present\n",
    "            split_line = line[20:].split()\n",
    "            if split_line:  # Check if there are any space-separated values\n",
    "                original_value = split_line[0]\n",
    "                # Check if the molecule ID in this line is different from the previous one\n",
    "                if original_value != current_id:\n",
    "                    current_id = original_value\n",
    "                    molecule_id += 1  # Increment the molecule ID\n",
    "                \n",
    "                # Replace the original value with the new molecule ID, keeping the same width\n",
    "                new_id_str = f\"{molecule_id}\".rjust(len(original_value))\n",
    "                modified_line = line[:20] + line[20:].replace(original_value, new_id_str, 1)\n",
    "            else:\n",
    "                modified_line = line  # Keep the line as it is if there are no values\n",
    "        else:\n",
    "            modified_line = line  # Keep the line as is if it doesn't have enough characters\n",
    "        \n",
    "        modified_lines.append(modified_line)\n",
    "\n",
    "# Joining the modified lines to create the content of the new file\n",
    "modified_content = ''.join(modified_lines)\n",
    "modified_file_path = '../ld/tip3_new.psf'\n",
    "\n",
    "# Writing the modified content to a new file\n",
    "with open(modified_file_path, 'w') as modified_file:\n",
    "    modified_file.write(modified_content)\n",
    "\n",
    "modified_file_path\n"
   ]
  },
  {
   "cell_type": "code",
   "execution_count": 11,
   "id": "0d2d99c2",
   "metadata": {},
   "outputs": [
    {
     "data": {
      "text/plain": [
       "'../ld/tip3_new.2.psf'"
      ]
     },
     "execution_count": 11,
     "metadata": {},
     "output_type": "execute_result"
    }
   ],
   "source": [
    "# Adjusting the approach to specifically remove one space character between \"TIP3\" and \"1\" in each line\n",
    "\n",
    "corrected_lines_v6 = []\n",
    "\n",
    "with open('../ld/tip3_new.psf', 'r') as file:\n",
    "    for line in file:\n",
    "        # Find the first occurrence of \"TIP3 \" and remove one space after it\n",
    "        tip3_index = line.find(\"TIP3 \")\n",
    "        if tip3_index != -1 and line[tip3_index + 5] == ' ':\n",
    "            corrected_line = line[:tip3_index + 5] + line[tip3_index + 6:]\n",
    "        else:\n",
    "            corrected_line = line  # Keep the line as is if the pattern doesn't match\n",
    "        corrected_lines_v6.append(corrected_line)\n",
    "\n",
    "# Joining the corrected lines to create the content of the new file\n",
    "corrected_content_v6 = ''.join(corrected_lines_v6)\n",
    "corrected_file_path_v6 = '../ld/tip3_new.2.psf'\n",
    "\n",
    "# Writing the corrected content to a new file\n",
    "with open(corrected_file_path_v6, 'w') as corrected_file:\n",
    "    corrected_file.write(corrected_content_v6)\n",
    "\n",
    "corrected_file_path_v6\n"
   ]
  },
  {
   "cell_type": "code",
   "execution_count": null,
   "id": "5cea4e2b",
   "metadata": {},
   "outputs": [],
   "source": []
  },
  {
   "cell_type": "code",
   "execution_count": 6,
   "id": "bb680be5",
   "metadata": {},
   "outputs": [],
   "source": [
    "filepath = '../ld/tip3_whole.crd'"
   ]
  },
  {
   "cell_type": "code",
   "execution_count": 7,
   "id": "cb2bec1b",
   "metadata": {},
   "outputs": [
    {
     "data": {
      "text/plain": [
       "'../ld/tip3_whole.crd'"
      ]
     },
     "execution_count": 7,
     "metadata": {},
     "output_type": "execute_result"
    }
   ],
   "source": [
    "filepath"
   ]
  },
  {
   "cell_type": "code",
   "execution_count": 9,
   "id": "d5677c44",
   "metadata": {},
   "outputs": [
    {
     "data": {
      "text/plain": [
       "'../ld/tip3_whole_new.crd'"
      ]
     },
     "execution_count": 9,
     "metadata": {},
     "output_type": "execute_result"
    }
   ],
   "source": [
    "modified_lines = []\n",
    "molecule_id = 0\n",
    "current_id = None\n",
    "\n",
    "with open(filepath, 'r') as file:\n",
    "    \n",
    "    for line in file:\n",
    "        # Check if the line is long enough to have a column starting at the 21st space\n",
    "        if len(line) > 110:\n",
    "            # Extract the value from the column starting at the 21st space, if present\n",
    "            split_line = line[110:].split()\n",
    "            if split_line:  # Check if there are any space-separated values\n",
    "                original_value = split_line[0]\n",
    "                # Check if the molecule ID in this line is different from the previous one\n",
    "                if original_value != current_id:\n",
    "                    current_id = original_value\n",
    "                    molecule_id += 1  # Increment the molecule ID\n",
    "                \n",
    "                # Replace the original value with the new molecule ID, keeping the same width\n",
    "                new_id_str = f\"{molecule_id}\".rjust(len(original_value))\n",
    "                modified_line = line[:110] + line[110:].replace(original_value, new_id_str, 1)\n",
    "            else:\n",
    "                modified_line = line  # Keep the line as it is if there are no values\n",
    "        else:\n",
    "            modified_line = line  # Keep the line as is if it doesn't have enough characters\n",
    "        \n",
    "        modified_lines.append(modified_line)\n",
    "\n",
    "# Joining the modified lines to create the content of the new file\n",
    "modified_content = ''.join(modified_lines)\n",
    "modified_file_path = '../ld/tip3_whole_new.crd'\n",
    "\n",
    "# Writing the modified content to a new file\n",
    "with open(modified_file_path, 'w') as modified_file:\n",
    "    modified_file.write(modified_content)\n",
    "\n",
    "modified_file_path\n"
   ]
  },
  {
   "cell_type": "code",
   "execution_count": null,
   "id": "6cc4f952",
   "metadata": {},
   "outputs": [],
   "source": []
  }
 ],
 "metadata": {
  "kernelspec": {
   "display_name": "Python 3 (ipykernel)",
   "language": "python",
   "name": "python3"
  },
  "language_info": {
   "codemirror_mode": {
    "name": "ipython",
    "version": 3
   },
   "file_extension": ".py",
   "mimetype": "text/x-python",
   "name": "python",
   "nbconvert_exporter": "python",
   "pygments_lexer": "ipython3",
   "version": "3.9.18"
  }
 },
 "nbformat": 4,
 "nbformat_minor": 5
}
