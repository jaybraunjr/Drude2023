{
 "cells": [
  {
   "cell_type": "code",
   "execution_count": 1,
   "id": "3d330bed",
   "metadata": {},
   "outputs": [],
   "source": [
    "import numpy as np\n",
    "import glob\n",
    "import re\n",
    "import matplotlib.pyplot as plt\n",
    "\n"
   ]
  },
  {
   "cell_type": "code",
   "execution_count": 2,
   "id": "735028ba",
   "metadata": {},
   "outputs": [],
   "source": [
    "def calculate_surface_tension(P_xx_bar, P_yy_bar, P_zz_bar, Lz_nm):\n",
    "    P_xx_Pa = P_xx_bar * 101325\n",
    "    P_yy_Pa = P_yy_bar * 101325\n",
    "    P_zz_Pa = P_zz_bar * 101325\n",
    "    Lz_m = Lz_nm * 1e-9\n",
    "    gamma = 0.5 * Lz_m * (P_zz_Pa - 0.5 * (P_xx_Pa + P_yy_Pa)) * 1000\n",
    "    return gamma"
   ]
  },
  {
   "cell_type": "markdown",
   "id": "a7287e15",
   "metadata": {},
   "source": [
    "test"
   ]
  },
  {
   "cell_type": "code",
   "execution_count": 3,
   "id": "7ab1f567",
   "metadata": {},
   "outputs": [
    {
     "data": {
      "text/plain": [
       "10.1325"
      ]
     },
     "execution_count": 3,
     "metadata": {},
     "output_type": "execute_result"
    }
   ],
   "source": [
    "calculate_surface_tension(100, 100, 110, 20)"
   ]
  },
  {
   "cell_type": "code",
   "execution_count": 6,
   "id": "7aa79282",
   "metadata": {},
   "outputs": [],
   "source": [
    "\n",
    "def extract_number(filename):\n",
    "    match = re.search(r'nsone(\\d+).ptn',filename)\n",
    "    if match:\n",
    "        return int(match.group(1))\n",
    "    return 0\n",
    "# Define patterns for both directories\n",
    "pattern_ptn2 = 'ptn2/ptn2/nsone[0-9]*.ptn'\n",
    "pattern_ptn3 = 'ptn2/ptn3/nsone[0-9]*.ptn'\n",
    "file_paths_ptn2 = glob.glob(pattern_ptn2)\n",
    "file_paths_ptn3 = glob.glob(pattern_ptn3)\n",
    "file_paths_ptn2 = sorted(file_paths_ptn2, key=extract_number)\n",
    "combined_file_paths = file_paths_ptn2 + file_paths_ptn3\n"
   ]
  },
  {
   "cell_type": "markdown",
   "id": "2b7cd281",
   "metadata": {},
   "source": [
    "#  Method 1: average of all into 1 array"
   ]
  },
  {
   "cell_type": "code",
   "execution_count": 36,
   "id": "89bcab5d",
   "metadata": {},
   "outputs": [],
   "source": [
    "\n",
    "all_gamma_values = []\n",
    "\n",
    "for file_path in combined_file_paths:\n",
    "    \n",
    "    gamma_values = []\n",
    "    with open(file_path, 'r') as file:\n",
    "        for line in file:\n",
    "            components = line.strip().split()\n",
    "            P_xx_bar = float(components[1])  # 2nd column\n",
    "            P_yy_bar = float(components[5])  # 6th column\n",
    "            P_zz_bar = float(components[9])  # 10th column\n",
    "\n",
    "            # Assuming a constant Lz_nm, adjust as necessary for your simulation\n",
    "            Lz_nm = 17 \n",
    "\n",
    "            # Calculate the surface tension for these components\n",
    "            gamma = calculate_surface_tension(P_xx_bar, P_yy_bar, P_zz_bar, Lz_nm)\n",
    "            gamma_values.append(gamma)\n",
    "        \n",
    "        all_gamma_values.append(gamma_values)"
   ]
  },
  {
   "cell_type": "code",
   "execution_count": 9,
   "id": "e312efea",
   "metadata": {},
   "outputs": [],
   "source": [
    "arr = np.concatenate(all_gamma_values[:100000000])"
   ]
  },
  {
   "cell_type": "code",
   "execution_count": 17,
   "id": "4230f89e",
   "metadata": {
    "scrolled": true
   },
   "outputs": [],
   "source": [
    "averages = []\n",
    "\n",
    "for sublist in all_gamma_values:\n",
    "    if sublist:  \n",
    "        avg = np.mean(sublist) \n",
    "        averages.append(avg) "
   ]
  },
  {
   "cell_type": "code",
   "execution_count": 18,
   "id": "306b7826",
   "metadata": {},
   "outputs": [],
   "source": [
    "running_averages = []\n",
    "current_sum = 0\n",
    "\n",
    "for i, value in enumerate(arr):\n",
    "    current_sum += value\n",
    "    running_average = current_sum / (i + 1)  # Average up to the current index\n",
    "    running_averages.append(running_average)"
   ]
  },
  {
   "cell_type": "markdown",
   "id": "17ffa9ce",
   "metadata": {},
   "source": [
    "# Block average"
   ]
  },
  {
   "cell_type": "code",
   "execution_count": 37,
   "id": "130ad7d0",
   "metadata": {},
   "outputs": [
    {
     "name": "stdout",
     "output_type": "stream",
     "text": [
      "Total data points: 453486\n",
      "Total blocks: 7\n",
      "Block-averaged mean surface tension: 28.871 mN/m\n",
      "Standard error from block averaging: 0.760 mN/m\n"
     ]
    }
   ],
   "source": [
    "\n",
    "Lz_nm = 17\n",
    "all_gamma_values = []\n",
    "\n",
    "for file_path in combined_file_paths:\n",
    "    with open(file_path, 'r') as file:\n",
    "        for line in file:\n",
    "            components = line.strip().split()\n",
    "            if len(components) >= 10:\n",
    "                try:\n",
    "                    P_xx_bar = float(components[1])\n",
    "                    P_yy_bar = float(components[5])\n",
    "                    P_zz_bar = float(components[9])\n",
    "                    gamma = calculate_surface_tension(P_xx_bar, P_yy_bar, P_zz_bar, Lz_nm)\n",
    "                    all_gamma_values.append(gamma)\n",
    "                except ValueError:\n",
    "                    continue\n",
    "\n",
    "\n",
    "gamma_array = np.array(all_gamma_values)\n",
    "N_chunks = 7\n",
    "chunk_size = len(gamma_array) // N_chunks\n",
    "\n",
    "block_means = []\n",
    "for i in range(N_chunks):\n",
    "    start = i * chunk_size\n",
    "    end = start + chunk_size if i < N_chunks - 1 else len(gamma_array)\n",
    "    block = gamma_array[start:end]\n",
    "    block_means.append(np.mean(block))\n",
    "\n",
    "block_means = np.array(block_means)\n",
    "mean = np.mean(block_means)\n",
    "sem = np.std(block_means, ddof=1) / np.sqrt(len(block_means))\n",
    "\n",
    "print(f\"Total data points: {len(gamma_array)}\")\n",
    "print(f\"Total blocks: {len(block_means)}\")\n",
    "print(f\"Block-averaged mean surface tension: {mean:.3f} mN/m\")\n",
    "print(f\"Standard error from block averaging: {sem:.3f} mN/m\")\n"
   ]
  },
  {
   "cell_type": "code",
   "execution_count": null,
   "id": "fb6db189",
   "metadata": {},
   "outputs": [],
   "source": []
  }
 ],
 "metadata": {
  "kernelspec": {
   "display_name": "Python 3 (ipykernel)",
   "language": "python",
   "name": "python3"
  },
  "language_info": {
   "codemirror_mode": {
    "name": "ipython",
    "version": 3
   },
   "file_extension": ".py",
   "mimetype": "text/x-python",
   "name": "python",
   "nbconvert_exporter": "python",
   "pygments_lexer": "ipython3",
   "version": "3.9.18"
  }
 },
 "nbformat": 4,
 "nbformat_minor": 5
}
