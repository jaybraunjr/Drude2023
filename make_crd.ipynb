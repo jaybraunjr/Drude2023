{
 "cells": [
  {
   "cell_type": "code",
   "execution_count": null,
   "id": "0b4f90b4",
   "metadata": {},
   "outputs": [],
   "source": []
  },
  {
   "cell_type": "code",
   "execution_count": 5,
   "id": "5a5f2dd6",
   "metadata": {},
   "outputs": [],
   "source": [
    "import MDAnalysis as mda\n",
    "\n",
    "# Load your GROMACS file\n",
    "u = mda.Universe('../ld/whole.gro')\n",
    "\n",
    "# Write out as a CHARMM/NAMD CRD file\n",
    "u.atoms.write('../ld/ld_whole.crd')\n"
   ]
  },
  {
   "cell_type": "code",
   "execution_count": null,
   "id": "8a39ac7e",
   "metadata": {},
   "outputs": [],
   "source": []
  }
 ],
 "metadata": {
  "kernelspec": {
   "display_name": "Python 3 (ipykernel)",
   "language": "python",
   "name": "python3"
  },
  "language_info": {
   "codemirror_mode": {
    "name": "ipython",
    "version": 3
   },
   "file_extension": ".py",
   "mimetype": "text/x-python",
   "name": "python",
   "nbconvert_exporter": "python",
   "pygments_lexer": "ipython3",
   "version": "3.9.18"
  }
 },
 "nbformat": 4,
 "nbformat_minor": 5
}
