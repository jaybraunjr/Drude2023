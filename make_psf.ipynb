{
 "cells": [
  {
   "cell_type": "markdown",
   "id": "5a4e9500",
   "metadata": {},
   "source": [
    "# This uses topology an coords to create out psf with correct atom types etc "
   ]
  },
  {
   "cell_type": "code",
   "execution_count": 1,
   "id": "881f3d1f",
   "metadata": {},
   "outputs": [],
   "source": [
    "import parmed as pmd\n"
   ]
  },
  {
   "cell_type": "code",
   "execution_count": 2,
   "id": "b59e9c1f",
   "metadata": {},
   "outputs": [
    {
     "ename": "PreProcessorError",
     "evalue": "Could not find toppar/charmm36-mar2019.ff/forcefield.itp",
     "output_type": "error",
     "traceback": [
      "\u001b[0;31m---------------------------------------------------------------------------\u001b[0m",
      "\u001b[0;31mPreProcessorError\u001b[0m                         Traceback (most recent call last)",
      "Cell \u001b[0;32mIn[2], line 3\u001b[0m\n\u001b[1;32m      1\u001b[0m \u001b[38;5;66;03m# Load your topology file\u001b[39;00m\n\u001b[1;32m      2\u001b[0m \u001b[38;5;66;03m# Replace 'your_topology_file.top' with the path to your topology file\u001b[39;00m\n\u001b[0;32m----> 3\u001b[0m topology \u001b[38;5;241m=\u001b[39m \u001b[43mpmd\u001b[49m\u001b[38;5;241;43m.\u001b[39;49m\u001b[43mload_file\u001b[49m\u001b[43m(\u001b[49m\u001b[38;5;124;43m'\u001b[39;49m\u001b[38;5;124;43mtopol.top\u001b[39;49m\u001b[38;5;124;43m'\u001b[39;49m\u001b[43m)\u001b[49m\n",
      "File \u001b[0;32m~/miniconda3/lib/python3.9/site-packages/parmed/formats/registry.py:211\u001b[0m, in \u001b[0;36mload_file\u001b[0;34m(filename, *args, **kwargs)\u001b[0m\n\u001b[1;32m    209\u001b[0m _prune_argument(\u001b[38;5;28mcls\u001b[39m\u001b[38;5;241m.\u001b[39m\u001b[38;5;21m__init__\u001b[39m, kwargs, \u001b[38;5;124m'\u001b[39m\u001b[38;5;124mhasbox\u001b[39m\u001b[38;5;124m'\u001b[39m)\n\u001b[1;32m    210\u001b[0m _prune_argument(\u001b[38;5;28mcls\u001b[39m\u001b[38;5;241m.\u001b[39m\u001b[38;5;21m__init__\u001b[39m, kwargs, \u001b[38;5;124m'\u001b[39m\u001b[38;5;124mskip_bonds\u001b[39m\u001b[38;5;124m'\u001b[39m)\n\u001b[0;32m--> 211\u001b[0m \u001b[38;5;28;01mreturn\u001b[39;00m \u001b[38;5;28;43mcls\u001b[39;49m\u001b[43m(\u001b[49m\u001b[43mfilename\u001b[49m\u001b[43m,\u001b[49m\u001b[43m \u001b[49m\u001b[38;5;241;43m*\u001b[39;49m\u001b[43margs\u001b[49m\u001b[43m,\u001b[49m\u001b[43m \u001b[49m\u001b[38;5;241;43m*\u001b[39;49m\u001b[38;5;241;43m*\u001b[39;49m\u001b[43mkwargs\u001b[49m\u001b[43m)\u001b[49m\n",
      "File \u001b[0;32m~/miniconda3/lib/python3.9/site-packages/parmed/gromacs/gromacstop.py:346\u001b[0m, in \u001b[0;36mGromacsTopologyFile.__init__\u001b[0;34m(self, fname, defines, parametrize, xyz, box)\u001b[0m\n\u001b[1;32m    344\u001b[0m \u001b[38;5;28mself\u001b[39m\u001b[38;5;241m.\u001b[39mdefaults \u001b[38;5;241m=\u001b[39m _Defaults(gen_pairs\u001b[38;5;241m=\u001b[39m\u001b[38;5;124m'\u001b[39m\u001b[38;5;124myes\u001b[39m\u001b[38;5;124m'\u001b[39m) \u001b[38;5;66;03m# make ParmEd's default yes\u001b[39;00m\n\u001b[1;32m    345\u001b[0m \u001b[38;5;28;01mif\u001b[39;00m fname \u001b[38;5;129;01mis\u001b[39;00m \u001b[38;5;129;01mnot\u001b[39;00m \u001b[38;5;28;01mNone\u001b[39;00m:\n\u001b[0;32m--> 346\u001b[0m     \u001b[38;5;28;43mself\u001b[39;49m\u001b[38;5;241;43m.\u001b[39;49m\u001b[43mread\u001b[49m\u001b[43m(\u001b[49m\u001b[43mfname\u001b[49m\u001b[43m,\u001b[49m\u001b[43m \u001b[49m\u001b[43mdefines\u001b[49m\u001b[43m,\u001b[49m\u001b[43m \u001b[49m\u001b[43mparametrize\u001b[49m\u001b[43m)\u001b[49m\n\u001b[1;32m    347\u001b[0m     \u001b[38;5;66;03m# Fill in coordinates and unit cell information if appropriate\u001b[39;00m\n\u001b[1;32m    348\u001b[0m     \u001b[38;5;28;01mif\u001b[39;00m xyz \u001b[38;5;129;01mis\u001b[39;00m \u001b[38;5;129;01mnot\u001b[39;00m \u001b[38;5;28;01mNone\u001b[39;00m:\n",
      "File \u001b[0;32m~/miniconda3/lib/python3.9/site-packages/parmed/gromacs/gromacstop.py:383\u001b[0m, in \u001b[0;36mGromacsTopologyFile.read\u001b[0;34m(self, fname, defines, parametrize)\u001b[0m\n\u001b[1;32m    381\u001b[0m \u001b[38;5;28;01mwith\u001b[39;00m closing(GromacsFile(fname, includes\u001b[38;5;241m=\u001b[39m[gmx\u001b[38;5;241m.\u001b[39mGROMACS_TOPDIR], defines\u001b[38;5;241m=\u001b[39mdefines)) \u001b[38;5;28;01mas\u001b[39;00m f:\n\u001b[1;32m    382\u001b[0m     current_section \u001b[38;5;241m=\u001b[39m \u001b[38;5;28;01mNone\u001b[39;00m\n\u001b[0;32m--> 383\u001b[0m     \u001b[38;5;28;01mfor\u001b[39;00m line \u001b[38;5;129;01min\u001b[39;00m f:\n\u001b[1;32m    384\u001b[0m         line \u001b[38;5;241m=\u001b[39m line\u001b[38;5;241m.\u001b[39mstrip()\n\u001b[1;32m    385\u001b[0m         \u001b[38;5;28;01mif\u001b[39;00m \u001b[38;5;129;01mnot\u001b[39;00m line: \u001b[38;5;28;01mcontinue\u001b[39;00m\n",
      "File \u001b[0;32m~/miniconda3/lib/python3.9/site-packages/parmed/gromacs/_gromacsfile.py:42\u001b[0m, in \u001b[0;36mGromacsFile.__iter__\u001b[0;34m(self)\u001b[0m\n\u001b[1;32m     39\u001b[0m \u001b[38;5;28;01mdef\u001b[39;00m \u001b[38;5;21m__iter__\u001b[39m(\u001b[38;5;28mself\u001b[39m):\n\u001b[1;32m     40\u001b[0m     \u001b[38;5;66;03m# Iterate over the file, treating an ending \\ as a continuation\u001b[39;00m\n\u001b[1;32m     41\u001b[0m     parts \u001b[38;5;241m=\u001b[39m []\n\u001b[0;32m---> 42\u001b[0m     \u001b[38;5;28;01mfor\u001b[39;00m line \u001b[38;5;129;01min\u001b[39;00m \u001b[38;5;28mself\u001b[39m\u001b[38;5;241m.\u001b[39m_handle:\n\u001b[1;32m     43\u001b[0m         \u001b[38;5;28;01mtry\u001b[39;00m:\n\u001b[1;32m     44\u001b[0m             idx \u001b[38;5;241m=\u001b[39m line\u001b[38;5;241m.\u001b[39mindex(\u001b[38;5;124m'\u001b[39m\u001b[38;5;124m;\u001b[39m\u001b[38;5;124m'\u001b[39m)\n",
      "File \u001b[0;32m~/miniconda3/lib/python3.9/site-packages/parmed/gromacs/_cpp.py:174\u001b[0m, in \u001b[0;36mCPreProcessor.__iter__\u001b[0;34m(self)\u001b[0m\n\u001b[1;32m    172\u001b[0m cmd, args \u001b[38;5;241m=\u001b[39m rematch\u001b[38;5;241m.\u001b[39mgroups()\n\u001b[1;32m    173\u001b[0m args \u001b[38;5;241m=\u001b[39m args \u001b[38;5;129;01mor\u001b[39;00m \u001b[38;5;124m'\u001b[39m\u001b[38;5;124m'\u001b[39m\n\u001b[0;32m--> 174\u001b[0m \u001b[38;5;28;43mself\u001b[39;49m\u001b[38;5;241;43m.\u001b[39;49m\u001b[43m_ppcmdmap\u001b[49m\u001b[43m[\u001b[49m\u001b[43mcmd\u001b[49m\u001b[43m]\u001b[49m\u001b[43m(\u001b[49m\u001b[38;5;28;43mself\u001b[39;49m\u001b[43m,\u001b[49m\u001b[43m \u001b[49m\u001b[43margs\u001b[49m\u001b[43m)\u001b[49m\n\u001b[1;32m    175\u001b[0m \u001b[38;5;66;03m# If we defined an include file, step through it\u001b[39;00m\n\u001b[1;32m    176\u001b[0m \u001b[38;5;28;01mif\u001b[39;00m \u001b[38;5;28mself\u001b[39m\u001b[38;5;241m.\u001b[39m_includefile \u001b[38;5;129;01mis\u001b[39;00m \u001b[38;5;129;01mnot\u001b[39;00m \u001b[38;5;28;01mNone\u001b[39;00m:\n",
      "File \u001b[0;32m~/miniconda3/lib/python3.9/site-packages/parmed/gromacs/_cpp.py:29\u001b[0m, in \u001b[0;36m_strip_pp_comments.<locals>.wrapper\u001b[0;34m(self, args)\u001b[0m\n\u001b[1;32m     26\u001b[0m \u001b[38;5;129m@wraps\u001b[39m(func)\n\u001b[1;32m     27\u001b[0m \u001b[38;5;28;01mdef\u001b[39;00m \u001b[38;5;21mwrapper\u001b[39m(\u001b[38;5;28mself\u001b[39m, args):\n\u001b[1;32m     28\u001b[0m     args \u001b[38;5;241m=\u001b[39m ppcomments\u001b[38;5;241m.\u001b[39msub(\u001b[38;5;124m'\u001b[39m\u001b[38;5;124m'\u001b[39m, args)\n\u001b[0;32m---> 29\u001b[0m     \u001b[38;5;28;01mreturn\u001b[39;00m \u001b[43mfunc\u001b[49m\u001b[43m(\u001b[49m\u001b[38;5;28;43mself\u001b[39;49m\u001b[43m,\u001b[49m\u001b[43m \u001b[49m\u001b[43margs\u001b[49m\u001b[43m)\u001b[49m\n",
      "File \u001b[0;32m~/miniconda3/lib/python3.9/site-packages/parmed/gromacs/_cpp.py:283\u001b[0m, in \u001b[0;36mCPreProcessor._pp_include\u001b[0;34m(self, args)\u001b[0m\n\u001b[1;32m    281\u001b[0m \u001b[38;5;28;01melse\u001b[39;00m:\n\u001b[1;32m    282\u001b[0m     \u001b[38;5;28;01mif\u001b[39;00m \u001b[38;5;28mself\u001b[39m\u001b[38;5;241m.\u001b[39m_notfound_fatal:\n\u001b[0;32m--> 283\u001b[0m         \u001b[38;5;28;01mraise\u001b[39;00m PreProcessorError(\u001b[38;5;124mf\u001b[39m\u001b[38;5;124m'\u001b[39m\u001b[38;5;124mCould not find \u001b[39m\u001b[38;5;132;01m{\u001b[39;00mincludefile\u001b[38;5;132;01m}\u001b[39;00m\u001b[38;5;124m'\u001b[39m)\n\u001b[1;32m    284\u001b[0m     warnings\u001b[38;5;241m.\u001b[39mwarn(\u001b[38;5;124mf\u001b[39m\u001b[38;5;124m'\u001b[39m\u001b[38;5;124mCould not find \u001b[39m\u001b[38;5;132;01m{\u001b[39;00mincludefile\u001b[38;5;132;01m}\u001b[39;00m\u001b[38;5;124m; skipping\u001b[39m\u001b[38;5;124m'\u001b[39m, PreProcessorWarning)\n\u001b[1;32m    285\u001b[0m     \u001b[38;5;28;01mreturn\u001b[39;00m\n",
      "\u001b[0;31mPreProcessorError\u001b[0m: Could not find toppar/charmm36-mar2019.ff/forcefield.itp"
     ]
    }
   ],
   "source": [
    "# Load your topology file\n",
    "# Replace 'your_topology_file.top' with the path to your topology file\n",
    "topology = pmd.load_file('topol.top')\n"
   ]
  },
  {
   "cell_type": "code",
   "execution_count": 8,
   "id": "9d6b7f4f",
   "metadata": {},
   "outputs": [],
   "source": [
    "\n",
    "# Load your coordinate file\n",
    "# Replace 'your_coordinate_file.crd' with the path to your coordinate file\n",
    "coordinates = pmd.load_file('output2.crd')"
   ]
  },
  {
   "cell_type": "code",
   "execution_count": 9,
   "id": "0e8f6de6",
   "metadata": {},
   "outputs": [
    {
     "data": {
      "text/plain": [
       "<GromacsTopologyFile 100906 atoms; 12086 residues; 100445 bonds; parameterized>"
      ]
     },
     "execution_count": 9,
     "metadata": {},
     "output_type": "execute_result"
    }
   ],
   "source": [
    "topology"
   ]
  },
  {
   "cell_type": "code",
   "execution_count": 10,
   "id": "6145e7e1",
   "metadata": {},
   "outputs": [
    {
     "data": {
      "text/plain": [
       "<parmed.charmm.charmmcrds.CharmmCrdFile at 0x7f8d1b3e4e80>"
      ]
     },
     "execution_count": 10,
     "metadata": {},
     "output_type": "execute_result"
    }
   ],
   "source": [
    "coordinates"
   ]
  },
  {
   "cell_type": "code",
   "execution_count": 11,
   "id": "ab76c240",
   "metadata": {},
   "outputs": [],
   "source": [
    "\n",
    "\n",
    "\n",
    "# Assign the coordinates to the topology\n",
    "topology.coordinates = coordinates.coordinates\n",
    "\n",
    "# Save the structure as a PSF file\n",
    "topology.save('output2.psf', overwrite=True)\n"
   ]
  },
  {
   "cell_type": "code",
   "execution_count": null,
   "id": "0e91564d",
   "metadata": {},
   "outputs": [],
   "source": []
  }
 ],
 "metadata": {
  "kernelspec": {
   "display_name": "Python 3 (ipykernel)",
   "language": "python",
   "name": "python3"
  },
  "language_info": {
   "codemirror_mode": {
    "name": "ipython",
    "version": 3
   },
   "file_extension": ".py",
   "mimetype": "text/x-python",
   "name": "python",
   "nbconvert_exporter": "python",
   "pygments_lexer": "ipython3",
   "version": "3.9.18"
  }
 },
 "nbformat": 4,
 "nbformat_minor": 5
}
